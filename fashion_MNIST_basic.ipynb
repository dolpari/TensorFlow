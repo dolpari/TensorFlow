{
  "nbformat": 4,
  "nbformat_minor": 0,
  "metadata": {
    "colab": {
      "name": "fashion_MNIST_basic.ipynb",
      "private_outputs": true,
      "provenance": [],
      "collapsed_sections": [],
      "include_colab_link": true
    },
    "kernelspec": {
      "name": "python3",
      "display_name": "Python 3"
    },
    "language_info": {
      "name": "python"
    },
    "gpuClass": "standard"
  },
  "cells": [
    {
      "cell_type": "markdown",
      "metadata": {
        "id": "view-in-github",
        "colab_type": "text"
      },
      "source": [
        "<a href=\"https://colab.research.google.com/github/dolpari/TensorFlow/blob/main/fashion_MNIST_basic.ipynb\" target=\"_parent\"><img src=\"https://colab.research.google.com/assets/colab-badge.svg\" alt=\"Open In Colab\"/></a>"
      ]
    },
    {
      "cell_type": "code",
      "execution_count": null,
      "metadata": {
        "id": "3_OnP4RGm4HC"
      },
      "outputs": [],
      "source": [
        "import matplotlib.pyplot as plt  #파이썬 그래픽 패키지\n",
        "import numpy as np               #배열 패키지   \n",
        "import os\n",
        "import tensorflow as tf\n",
        "#from tensorflow.keras.models import load_model\n",
        "\n",
        "print(tf.__version__)"
      ]
    },
    {
      "cell_type": "code",
      "source": [
        "fashion_mnist = tf.keras.datasets.fashion_mnist\n",
        "(x_train, y_train), (x_test, y_test) = fashion_mnist.load_data()"
      ],
      "metadata": {
        "id": "8eOxqgLrnc2L"
      },
      "execution_count": null,
      "outputs": []
    },
    {
      "cell_type": "code",
      "source": [
        "np.shape(x_train)"
      ],
      "metadata": {
        "id": "7sP-iBpBnmqi"
      },
      "execution_count": null,
      "outputs": []
    },
    {
      "cell_type": "code",
      "source": [
        "np.shape(y_train)\n"
      ],
      "metadata": {
        "id": "lj9hKuzFnwfX"
      },
      "execution_count": null,
      "outputs": []
    },
    {
      "cell_type": "code",
      "source": [
        "print(x_train[0])\n",
        "plt.imshow(x_train[0])"
      ],
      "metadata": {
        "id": "n1F1Uai4n09T"
      },
      "execution_count": null,
      "outputs": []
    },
    {
      "cell_type": "markdown",
      "source": [
        "### 데이터 전처리"
      ],
      "metadata": {
        "id": "c0kRjmcLof7e"
      }
    },
    {
      "cell_type": "code",
      "source": [
        "x_train, x_test = x_train / 255.0, x_test / 255.0   #Normalize"
      ],
      "metadata": {
        "id": "7gSGppYLojz4"
      },
      "execution_count": null,
      "outputs": []
    },
    {
      "cell_type": "code",
      "source": [
        "print(x_train[0])"
      ],
      "metadata": {
        "id": "BfUsw9KQb0lA"
      },
      "execution_count": null,
      "outputs": []
    },
    {
      "cell_type": "markdown",
      "source": [
        "## 3. 모델 구성"
      ],
      "metadata": {
        "id": "DfecO0x5otp-"
      }
    },
    {
      "cell_type": "code",
      "source": [
        "model = tf.keras.models.Sequential([\n",
        "  tf.keras.layers.Flatten(input_shape=(28, 28)),  #2차원 배열을 1차원으로 바꿔주는 함수  입력 laysr\n",
        "  tf.keras.layers.Dense(128, activation='relu'),  # hidden layer\n",
        "  tf.keras.layers.Dropout(0.2),\n",
        "  tf.keras.layers.Dense(128, activation='relu'),  # hidden layer\n",
        "  tf.keras.layers.Dropout(0.2),\n",
        "  tf.keras.layers.Dense(64, activation='relu'),  # hidden layer\n",
        "  tf.keras.layers.Dropout(0.2),\n",
        "  tf.keras.layers.Dense(32, activation='relu'),  # hidden layer\n",
        "  tf.keras.layers.Dropout(0.2),\n",
        "  tf.keras.layers.Dense(10, activation='softmax') # output layer\n",
        "  \n",
        "])\n"
      ],
      "metadata": {
        "id": "u6chLPHGorlX"
      },
      "execution_count": null,
      "outputs": []
    },
    {
      "cell_type": "code",
      "source": [
        "model.summary()"
      ],
      "metadata": {
        "id": "uiiJ-mCppct-"
      },
      "execution_count": null,
      "outputs": []
    },
    {
      "cell_type": "code",
      "source": [
        "model.compile(optimizer='adam', loss='sparse_categorical_crossentropy', metrics=['accuracy'])"
      ],
      "metadata": {
        "id": "QX8magocprJ-"
      },
      "execution_count": null,
      "outputs": []
    },
    {
      "cell_type": "code",
      "source": [
        "epochs = 10  # 학습 횟수\n",
        "\n",
        "\n",
        "model.fit(x_train, y_train, epochs= epochs)"
      ],
      "metadata": {
        "id": "3A8MxH4fp5N3"
      },
      "execution_count": null,
      "outputs": []
    },
    {
      "cell_type": "code",
      "source": [
        "test_loss, test_acc = model.evaluate(x_test,  y_test, verbose=2)"
      ],
      "metadata": {
        "id": "aovpWzJ4qk9w"
      },
      "execution_count": null,
      "outputs": []
    },
    {
      "cell_type": "code",
      "source": [
        "model.save(\"MNIST_test1.h5\")  "
      ],
      "metadata": {
        "id": "FPAb9UuXqzgF"
      },
      "execution_count": null,
      "outputs": []
    },
    {
      "cell_type": "code",
      "source": [
        "predictoion = model.predict(x_test)"
      ],
      "metadata": {
        "id": "eGXATWTQdviK"
      },
      "execution_count": null,
      "outputs": []
    },
    {
      "cell_type": "code",
      "source": [
        "np.shape(predictoion)"
      ],
      "metadata": {
        "id": "rsf4nB3zd9mi"
      },
      "execution_count": null,
      "outputs": []
    },
    {
      "cell_type": "code",
      "source": [
        "print(predictoion[0])"
      ],
      "metadata": {
        "id": "MopmMqieeFDn"
      },
      "execution_count": null,
      "outputs": []
    },
    {
      "cell_type": "code",
      "source": [
        "plt.imshow(x_test[0])"
      ],
      "metadata": {
        "id": "2Z2QwXBreOXp"
      },
      "execution_count": null,
      "outputs": []
    },
    {
      "cell_type": "code",
      "source": [
        "i= 6\n",
        "X_DATA = x_test[i].reshape((1,28,28,1))\n",
        "pred1 = model.predict(X_DATA)\n",
        "print(\"predict : \",pred1)\n",
        "\n",
        "print(\"result number\", np.argmax(pred1) )\n",
        "print(\"result max\", np.max(pred1) )\n",
        "print(y_test[i])\n",
        "plt.imshow(x_test[i])"
      ],
      "metadata": {
        "id": "YmHq1fb0y74i"
      },
      "execution_count": null,
      "outputs": []
    }
  ]
}