{
  "nbformat": 4,
  "nbformat_minor": 0,
  "metadata": {
    "colab": {
      "name": "test1.ipynb의 사본",
      "private_outputs": true,
      "provenance": [],
      "collapsed_sections": [],
      "include_colab_link": true
    },
    "kernelspec": {
      "name": "python3",
      "display_name": "Python 3"
    },
    "language_info": {
      "name": "python"
    }
  },
  "cells": [
    {
      "cell_type": "markdown",
      "metadata": {
        "id": "view-in-github",
        "colab_type": "text"
      },
      "source": [
        "<a href=\"https://colab.research.google.com/github/dolpari/TensorFlow/blob/main/test1_ipynb.ipynb\" target=\"_parent\"><img src=\"https://colab.research.google.com/assets/colab-badge.svg\" alt=\"Open In Colab\"/></a>"
      ]
    },
    {
      "cell_type": "code",
      "execution_count": null,
      "metadata": {
        "id": "Soh3VOW8Q-cs"
      },
      "outputs": [],
      "source": [
        "import tensorflow as tf\n",
        "tf.__version__"
      ]
    },
    {
      "cell_type": "code",
      "source": [
        "a = tf.constant(1.0, name='input')\n",
        "b = tf.constant(2.0, name='input')\n",
        "w1 = tf.Variable(0.8, name='weight')\n",
        "w2 = tf.Variable(0.2, name='weight')\n",
        "\n",
        "y1 = tf.multiply(w1,a,'output')\n",
        "y2 = tf.multiply(w2,b,'output')\n",
        "\n",
        "y = tf.add(y1,y2)"
      ],
      "metadata": {
        "id": "NqOxcch-UKOu"
      },
      "execution_count": null,
      "outputs": []
    },
    {
      "cell_type": "code",
      "source": [
        "print(y1)\n",
        "tf.print(y1)"
      ],
      "metadata": {
        "id": "jzwUTbY-VBsc"
      },
      "execution_count": null,
      "outputs": []
    },
    {
      "cell_type": "code",
      "source": [
        " c = tf.keras.activations.sigmoid(y)\n",
        " d = tf.keras.activations.linear(y2)"
      ],
      "metadata": {
        "id": "6yd2fRGNVSdY"
      },
      "execution_count": null,
      "outputs": []
    },
    {
      "cell_type": "code",
      "source": [
        "print(c)\n",
        "print(d)"
      ],
      "metadata": {
        "id": "l-taX822Vchq"
      },
      "execution_count": null,
      "outputs": []
    }
  ]
}