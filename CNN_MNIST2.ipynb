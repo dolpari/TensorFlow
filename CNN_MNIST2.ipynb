{
  "nbformat": 4,
  "nbformat_minor": 0,
  "metadata": {
    "colab": {
      "name": "CNN_MNIST2.ipynb",
      "private_outputs": true,
      "provenance": [],
      "include_colab_link": true
    },
    "kernelspec": {
      "name": "python3",
      "display_name": "Python 3"
    },
    "language_info": {
      "name": "python"
    },
    "accelerator": "GPU",
    "gpuClass": "standard"
  },
  "cells": [
    {
      "cell_type": "markdown",
      "metadata": {
        "id": "view-in-github",
        "colab_type": "text"
      },
      "source": [
        "<a href=\"https://colab.research.google.com/github/dolpari/TensorFlow/blob/main/CNN_MNIST2.ipynb\" target=\"_parent\"><img src=\"https://colab.research.google.com/assets/colab-badge.svg\" alt=\"Open In Colab\"/></a>"
      ]
    },
    {
      "cell_type": "code",
      "execution_count": null,
      "metadata": {
        "id": "fFyInbXEdXVj"
      },
      "outputs": [],
      "source": [
        "import matplotlib.pyplot as plt\n",
        "import numpy as np\n",
        "import tensorflow as tf\n",
        "\n",
        "print(tf.__version__)"
      ]
    },
    {
      "cell_type": "code",
      "source": [
        "target_accuracy = 0.998\n",
        "\n",
        "class myCallbacks(tf.keras.callbacks.Callback):\n",
        "    def on_epoch_end(self, epoch, logs={}):\n",
        "        if(logs.get('accuracy')> target_accuracy):\n",
        "            print(\"\\nEnough!!!\")\n",
        "            self.model.stop_training=True\n",
        "\n",
        "callbacks = myCallbacks()"
      ],
      "metadata": {
        "id": "beevw_tGdlis"
      },
      "execution_count": null,
      "outputs": []
    },
    {
      "cell_type": "code",
      "source": [
        "# datastes\n",
        "data = tf.keras.datasets.mnist\n",
        "(X_train, Y_train), (X_test, Y_test) = data.load_data()\n"
      ],
      "metadata": {
        "id": "6Jhi_9fvdw5e"
      },
      "execution_count": null,
      "outputs": []
    },
    {
      "cell_type": "code",
      "source": [
        "np.shape(X_train)"
      ],
      "metadata": {
        "id": "V0aAk01rC4cG"
      },
      "execution_count": null,
      "outputs": []
    },
    {
      "cell_type": "code",
      "source": [
        "# reshape for CNN\n",
        "X_train = X_train.reshape(60000, 28, 28, 1)   # 1 흑백 4차원 tensor\n",
        "X_test  = X_test.reshape(10000, 28, 28, 1)"
      ],
      "metadata": {
        "id": "SK-mgxhgd0t7"
      },
      "execution_count": null,
      "outputs": []
    },
    {
      "cell_type": "code",
      "source": [
        "np.shape(X_train)"
      ],
      "metadata": {
        "id": "YEV93GbDnbYs"
      },
      "execution_count": null,
      "outputs": []
    },
    {
      "cell_type": "code",
      "source": [
        "# Normalize (반드시 해야 함, 이미지 데이터니 최대값인 255로 나누어서 할 것\n",
        "X_train = X_train / 255.\n",
        "X_test = X_test / 255."
      ],
      "metadata": {
        "id": "iX6g-qxOeJIR"
      },
      "execution_count": null,
      "outputs": []
    },
    {
      "cell_type": "code",
      "source": [
        "# model\n",
        "model = tf.keras.Sequential([\n",
        "    tf.keras.layers.Conv2D(64, (3,3), activation='relu', input_shape=(28,28,1)),\n",
        "    tf.keras.layers.MaxPooling2D(2,2),\n",
        "    tf.keras.layers.Conv2D(128, (3,3), activation='relu', input_shape=(28,28,1)),\n",
        "    tf.keras.layers.MaxPooling2D(2,2),    \n",
        " \n",
        "    tf.keras.layers.Flatten(),\n",
        "    tf.keras.layers.Dense(512, activation='relu'),\n",
        "    tf.keras.layers.Dense(10, activation='softmax')\n",
        "])"
      ],
      "metadata": {
        "id": "Nvd7CUtueNqX"
      },
      "execution_count": null,
      "outputs": []
    },
    {
      "cell_type": "code",
      "source": [
        "model.compile(optimizer='adam', loss='sparse_categorical_crossentropy', metrics=['accuracy'])"
      ],
      "metadata": {
        "id": "SLoZuXx1ehl1"
      },
      "execution_count": null,
      "outputs": []
    },
    {
      "cell_type": "code",
      "source": [
        "model.summary()"
      ],
      "metadata": {
        "id": "xdsmxjzWeorU"
      },
      "execution_count": null,
      "outputs": []
    },
    {
      "cell_type": "code",
      "source": [
        "# Training\n",
        "epochs=5\n",
        "history = model.fit(X_train, Y_train, epochs=5, callbacks=[callbacks])  # 위의 callback 함수에서 종료 조건 정의 함\n"
      ],
      "metadata": {
        "id": "cG8YnPphe7-A"
      },
      "execution_count": null,
      "outputs": []
    },
    {
      "cell_type": "code",
      "source": [
        "# evaluate\n",
        "model.evaluate(X_test, Y_test)"
      ],
      "metadata": {
        "id": "R0XAVhkSfXZY"
      },
      "execution_count": null,
      "outputs": []
    },
    {
      "cell_type": "code",
      "source": [
        "model.save('my_cnn_model.h5')\n",
        "print(\"my CNN model is saved\")"
      ],
      "metadata": {
        "id": "fTu0VJorfZni"
      },
      "execution_count": null,
      "outputs": []
    },
    {
      "cell_type": "code",
      "source": [
        "acc = history.history['accuracy']\n",
        "#val_acc = history.history['val_accuracy']\n",
        "\n",
        "loss=history.history['loss']\n",
        "#val_loss=history.history['val_loss']"
      ],
      "metadata": {
        "id": "AXXWHzNchsJf"
      },
      "execution_count": null,
      "outputs": []
    },
    {
      "cell_type": "code",
      "source": [
        "epochs_range = range(epochs)"
      ],
      "metadata": {
        "id": "EKDNrpyrhvdC"
      },
      "execution_count": null,
      "outputs": []
    },
    {
      "cell_type": "code",
      "source": [
        "plt.figure(figsize=(8, 8))\n",
        "plt.subplot(1, 2, 1)\n",
        "plt.plot(epochs_range, acc, label='Training Accuracy')\n",
        "#plt.plot(epochs_range, val_acc, label='Validation Accuracy')\n",
        "plt.legend(loc='lower right')\n",
        "plt.title('Training and Validation Accuracy')\n"
      ],
      "metadata": {
        "id": "DMgPE6poh4Rh"
      },
      "execution_count": null,
      "outputs": []
    },
    {
      "cell_type": "code",
      "source": [
        "plt.subplot(1, 2, 2)\n",
        "plt.plot(epochs_range, loss, label='Training Loss')\n",
        "#plt.plot(epochs_range, val_loss, label='Validation Loss')\n",
        "plt.legend(loc='upper right')\n",
        "plt.title('Training and Validation Loss')\n",
        "plt.show()\n"
      ],
      "metadata": {
        "id": "yfY0TkxziDg6"
      },
      "execution_count": null,
      "outputs": []
    },
    {
      "cell_type": "code",
      "source": [
        "class_names = ['0', '1', '2', '3', '4', '5', '6', '7', '8', '9']\n",
        "#class_names = ['T-shirt', '1', '2', '3', '4', '5', '6', '7', '8', '9']"
      ],
      "metadata": {
        "id": "Fn_Z1rqLkmZd"
      },
      "execution_count": null,
      "outputs": []
    },
    {
      "cell_type": "code",
      "source": [
        "error_no = 0 \n",
        "for i in range(0,10000):\n",
        "    input_data = X_test[i].reshape(1, 28, 28, 1)  #하나씩 test 할때 매우 중요함\n",
        "    predict_result = model.predict(input_data)\n",
        "    #print('Prediction result : ', np.argmax(predict_result) )\n",
        "    #print('Test result : ', Y_test[i])\n",
        "    if np.argmax(predict_result)!= Y_test[i] :\n",
        "        error_no += 1\n",
        "\n",
        "print(error_no)      "
      ],
      "metadata": {
        "id": "SnhA-4mFkypN"
      },
      "execution_count": null,
      "outputs": []
    }
  ]
}